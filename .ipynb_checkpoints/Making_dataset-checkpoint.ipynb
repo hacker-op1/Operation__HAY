{
 "cells": [
  {
   "cell_type": "markdown",
   "id": "d407a90b",
   "metadata": {},
   "source": [
    "## Please dont run this code as data is already created"
   ]
  },
  {
   "cell_type": "code",
   "execution_count": 39,
   "id": "8fd9fa1a",
   "metadata": {},
   "outputs": [],
   "source": [
    "# import cv2\n",
    "# import numpy as np\n",
    "# import os\n",
    "# import matplotlib.pyplot as plt\n",
    "# from scipy import ndimage\n",
    "\n",
    "\n",
    "\n",
    "# def rotation(image,angle):\n",
    "#     if (image is not None):\n",
    "#         a = image.copy()\n",
    "#         a = ndimage.rotate(a, angle,cval=255)\n",
    "#         return a\n",
    "\n",
    "# path=f'SoML-50/fakedata'\n",
    "# myPicList= os.listdir(path)\n",
    "# images=[]\n",
    "# for y in (myPicList):\n",
    "#     img=cv2.imread(path + str('/')+y,0)  \n",
    "#     images.append(img)\n",
    "# array_images = np.array(images)\n",
    "    \n",
    "# final=[]\n",
    "# for z in range (array_images.shape[0]):\n",
    "#     new=[]\n",
    "#     new.append(images[z][0:array_images.shape[1] , 0: int(array_images.shape[2]/3)])\n",
    "#     new.append(images[z][0:array_images.shape[1] , int(array_images.shape[2]/3) : int(2*int(array_images.shape[2]/3))])\n",
    "#     new.append(images[z][0:array_images.shape[1] , int(2*int(array_images.shape[2]/3)): array_images.shape[2]])\n",
    "#     final.append(new)\n",
    "# final=np.array(final)\n",
    "\n",
    "# for i in range(len(final)):\n",
    "#     for j in range(3):\n",
    "#         cv2.imwrite(f'Data/orig/mul/mul_{i+1}{j}.jpg',final[i][j])\n",
    "\n",
    "# def move_left(img,x):\n",
    "#     if x>=0:\n",
    "#         a = img.copy()\n",
    "#         for j in range(len(a)):\n",
    "#             a[j] = np.append(a[j][x:],255*np.ones((1,x),dtype='uint'))\n",
    "#         return a\n",
    "#     else:\n",
    "#         a = img.copy()\n",
    "#         for j in range(len(a)):\n",
    "#             a[j] = np.append(255*np.ones((1,-1*x),dtype='uint'),a[j][:x])\n",
    "#         return a\n",
    "    \n",
    "# def move_up(img,x):\n",
    "#     if x>=0:\n",
    "#         a = img.copy()\n",
    "#         n = len(a[0])\n",
    "#         for i in range(x):\n",
    "#             a = np.append(a[1:],255*np.ones((1,n),dtype='uint8'),0)\n",
    "#         return a\n",
    "#     else:\n",
    "#         x = -1*x\n",
    "#         a = img.copy()\n",
    "#         n = len(a[0])\n",
    "#         for i in range(x):\n",
    "#             a = np.append(255*np.ones((1,n),dtype='uint8'),a[:-1],0)\n",
    "#         return a"
   ]
  },
  {
   "cell_type": "code",
   "execution_count": 35,
   "id": "6f0c6a94",
   "metadata": {},
   "outputs": [],
   "source": [
    "# for l in range(10):\n",
    "#     path=f'Data/orig/{l}'\n",
    "#     myPicList= os.listdir(path)\n",
    "#     images=[]\n",
    "#     for y in (myPicList):\n",
    "#         img=cv2.imread(path + str('/')+y,0)\n",
    "#         images.append(img)\n",
    "#     for k in range(len(images)):\n",
    "#         for j in range(-5,6,10):\n",
    "#             mov_img = move_up(images[k],j)\n",
    "#             for i in range(-20,21,4):\n",
    "#                 rotated_im = rotation(mov_img,i)\n",
    "#                 cv2.imwrite(f'Data/augm/{l}/{l}_{k+1}_movup{j}_angle{i}.jpeg',rotated_im)"
   ]
  },
  {
   "cell_type": "code",
   "execution_count": 41,
   "id": "0d147e27",
   "metadata": {},
   "outputs": [],
   "source": [
    "# # for l in range(10):\n",
    "# path=f'Data/orig/div'\n",
    "# myPicList= os.listdir(path)\n",
    "# images=[]\n",
    "# for y in (myPicList):\n",
    "#     img=cv2.imread(path + str('/')+y,0)\n",
    "#     images.append(img)\n",
    "# for k in range(len(images)):\n",
    "#     for j in range(-5,6,10):\n",
    "#         mov_img = move_up(images[k],j)\n",
    "#         for i in range(-20,21,4):\n",
    "#             rotated_im = rotation(mov_img,i)\n",
    "#             cv2.imwrite(f'Data/augm/div/div_{k+1}_movup{j}_angle{i}.jpeg',rotated_im)"
   ]
  },
  {
   "cell_type": "code",
   "execution_count": 42,
   "id": "13e6dafa",
   "metadata": {},
   "outputs": [],
   "source": [
    "# path=f'Data/orig/mul'\n",
    "# myPicList= os.listdir(path)\n",
    "# images=[]\n",
    "# for y in (myPicList):\n",
    "#     img=cv2.imread(path + str('/')+y,0)\n",
    "#     images.append(img)\n",
    "# for k in range(len(images)):\n",
    "#     for j in range(-16,17,4):\n",
    "#         mov_img = move_left(images[k],j)\n",
    "#         for i in range(-20,21,4):\n",
    "#             rotated_im = rotation(mov_img,i)\n",
    "#             cv2.imwrite(f'Data/augm/mul/mul_{k+1}_mov{j}_angle{i}.jpeg',rotated_im)"
   ]
  },
  {
   "cell_type": "code",
   "execution_count": 13,
   "id": "62a6bf6e",
   "metadata": {},
   "outputs": [],
   "source": [
    "# path=f'Data/orig/mul'\n",
    "# myPicList= os.listdir(path)\n",
    "# images=[]\n",
    "# for y in (myPicList):\n",
    "#     img=cv2.imread(path + str('/')+y,0)\n",
    "#     images.append(img)\n",
    "# for k in range(len(images)):\n",
    "#     for j in range(-16,17,4):\n",
    "#         mov_img = move_left(images[k],j)\n",
    "#         for i in range(-20,21,4):\n",
    "#             rotated_im = rotation(mov_img,i)\n",
    "#             cv2.imwrite(f'Data/augm/mul/mul_{k+1}_mov{j}_angle{i}.jpeg',rotated_im)"
   ]
  },
  {
   "cell_type": "code",
   "execution_count": 14,
   "id": "8bcee3f0",
   "metadata": {},
   "outputs": [],
   "source": [
    "# path=f'Data/orig/div'\n",
    "# myPicList= os.listdir(path)\n",
    "# images=[]\n",
    "# for y in (myPicList):\n",
    "#     img=cv2.imread(path + str('/')+y,0)\n",
    "#     images.append(img)\n",
    "# for k in range(len(images)):\n",
    "#     for j in range(-16,17,4):\n",
    "#         mov_img = move_left(images[k],j)\n",
    "#         for i in range(-20,21,4):\n",
    "#             rotated_im = rotation(mov_img,i)\n",
    "#             cv2.imwrite(f'Data/augm/div/div_{k+1}_mov{j}_angle{i}.jpeg',rotated_im)"
   ]
  },
  {
   "cell_type": "code",
   "execution_count": 6,
   "id": "278b3608",
   "metadata": {},
   "outputs": [],
   "source": [
    "# path=f'Data/orig/1'\n",
    "# myPicList= os.listdir(path)\n",
    "# images=[]\n",
    "# for y in (myPicList):\n",
    "#     img=cv2.imread(path + str('/')+y,0)\n",
    "#     images.append(img)"
   ]
  },
  {
   "cell_type": "code",
   "execution_count": 26,
   "id": "82ca426c",
   "metadata": {},
   "outputs": [
    {
     "data": {
      "text/plain": [
       "<matplotlib.image.AxesImage at 0x181d9f6f9a0>"
      ]
     },
     "execution_count": 26,
     "metadata": {},
     "output_type": "execute_result"
    },
    {
     "data": {
      "image/png": "[encoded data removed]",
      "text/plain": [
       "<Figure size 432x288 with 1 Axes>"
      ]
     },
     "metadata": {
      "needs_background": "light"
     },
     "output_type": "display_data"
    }
   ],
   "source": [
    "# plt.imshow(images[0])"
   ]
  }
 ],
 "metadata": {
  "kernelspec": {
   "display_name": "Python 3",
   "language": "python",
   "name": "python3"
  },
  "language_info": {
   "codemirror_mode": {
    "name": "ipython",
    "version": 3
   },
   "file_extension": ".py",
   "mimetype": "text/x-python",
   "name": "python",
   "nbconvert_exporter": "python",
   "pygments_lexer": "ipython3",
   "version": "3.9.4"
  }
 },
 "nbformat": 4,
 "nbformat_minor": 5
}
