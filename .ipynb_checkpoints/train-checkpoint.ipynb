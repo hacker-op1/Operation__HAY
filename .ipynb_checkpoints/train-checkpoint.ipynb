{
 "cells": [
  {
   "cell_type": "code",
   "execution_count": null,
   "id": "60a5a4f4",
   "metadata": {},
   "outputs": [],
   "source": [
    "import numpy as np\n",
    "import matplotlib.pyplot as plt\n",
    "import torchvision\n",
    "from torchvision import transforms,datasets\n",
    "import cv2\n",
    "import os"
   ]
  },
  {
   "cell_type": "code",
   "execution_count": null,
   "id": "4c54d715",
   "metadata": {},
   "outputs": [],
   "source": [
    "path=f'Data/augm/0'\n",
    "myPicList= os.listdir(path)\n",
    "img_0=[]\n",
    "for y in (myPicList):\n",
    "    img=cv2.imread(path + str('/')+y,0)\n",
    "    img = cv2.resize(img, (50,50))\n",
    "    img_0.append(img)\n",
    "img_0 = np.array(img_0)"
   ]
  },
  {
   "cell_type": "code",
   "execution_count": null,
   "id": "9f6bae65",
   "metadata": {},
   "outputs": [],
   "source": [
    "np.random.shuffle(img_0)"
   ]
  },
  {
   "cell_type": "code",
   "execution_count": null,
   "id": "5c108b3b",
   "metadata": {},
   "outputs": [],
   "source": [
    "path=f'Data/augm/1'\n",
    "myPicList= os.listdir(path)\n",
    "img_1=[]\n",
    "for y in (myPicList):\n",
    "    img=cv2.imread(path + str('/')+y,0)\n",
    "    img = cv2.resize(img, (50,50))\n",
    "    img_1.append(img)\n",
    "img_1 = np.array(img_1)\n",
    "np.random.shuffle(img_1)"
   ]
  },
  {
   "cell_type": "code",
   "execution_count": null,
   "id": "772e283a",
   "metadata": {},
   "outputs": [],
   "source": [
    "path=f'Data/augm/2'\n",
    "myPicList= os.listdir(path)\n",
    "img_2=[]\n",
    "for y in (myPicList):\n",
    "    img=cv2.imread(path + str('/')+y,0)\n",
    "    img = cv2.resize(img, (50,50))\n",
    "    img_2.append(img)\n",
    "img_2 = np.array(img_2)\n",
    "np.random.shuffle(img_2)"
   ]
  },
  {
   "cell_type": "code",
   "execution_count": null,
   "id": "fcd55464",
   "metadata": {},
   "outputs": [],
   "source": [
    "path=f'Data/augm/3'\n",
    "myPicList= os.listdir(path)\n",
    "img_3=[]\n",
    "for y in (myPicList):\n",
    "    img=cv2.imread(path + str('/')+y,0)\n",
    "    img = cv2.resize(img, (50,50))\n",
    "    img_3.append(img)\n",
    "img_3 = np.array(img_3)\n",
    "np.random.shuffle(img_3)"
   ]
  },
  {
   "cell_type": "code",
   "execution_count": null,
   "id": "79e556a6",
   "metadata": {},
   "outputs": [],
   "source": [
    "path=f'Data/augm/4'\n",
    "myPicList= os.listdir(path)\n",
    "img_4=[]\n",
    "for y in (myPicList):\n",
    "    img=cv2.imread(path + str('/')+y,0)\n",
    "    img = cv2.resize(img, (50,50))\n",
    "    img_4.append(img)\n",
    "img_4 = np.array(img_4)\n",
    "np.random.shuffle(img_4)"
   ]
  },
  {
   "cell_type": "code",
   "execution_count": null,
   "id": "9d11f46b",
   "metadata": {},
   "outputs": [],
   "source": [
    "path=f'Data/augm/5'\n",
    "myPicList= os.listdir(path)\n",
    "img_5=[]\n",
    "for y in (myPicList):\n",
    "    img=cv2.imread(path + str('/')+y,0)\n",
    "    img = cv2.resize(img, (50,50))\n",
    "    img_5.append(img)\n",
    "img_5 = np.array(img_5)\n",
    "np.random.shuffle(img_5)"
   ]
  },
  {
   "cell_type": "code",
   "execution_count": null,
   "id": "a0a19494",
   "metadata": {},
   "outputs": [],
   "source": [
    "path=f'Data/augm/6'\n",
    "myPicList= os.listdir(path)\n",
    "img_6=[]\n",
    "for y in (myPicList):\n",
    "    img=cv2.imread(path + str('/')+y,0)\n",
    "    img = cv2.resize(img, (50,50))\n",
    "    img_6.append(img)\n",
    "img_6 = np.array(img_6)\n",
    "np.random.shuffle(img_6)"
   ]
  },
  {
   "cell_type": "code",
   "execution_count": null,
   "id": "d4ab731a",
   "metadata": {},
   "outputs": [],
   "source": [
    "path=f'Data/augm/7'\n",
    "myPicList= os.listdir(path)\n",
    "img_7=[]\n",
    "for y in (myPicList):\n",
    "    img=cv2.imread(path + str('/')+y,0)\n",
    "    img = cv2.resize(img, (50,50))\n",
    "    img_7.append(img)\n",
    "img_7 = np.array(img_7)\n",
    "np.random.shuffle(img_7)"
   ]
  },
  {
   "cell_type": "code",
   "execution_count": null,
   "id": "67b973eb",
   "metadata": {},
   "outputs": [],
   "source": [
    "path=f'Data/augm/8'\n",
    "myPicList= os.listdir(path)\n",
    "img_8=[]\n",
    "for y in (myPicList):\n",
    "    img=cv2.imread(path + str('/')+y,0)\n",
    "    img = cv2.resize(img, (50,50))\n",
    "    img_8.append(img)\n",
    "img_8 = np.array(img_8)\n",
    "np.random.shuffle(img_8)"
   ]
  },
  {
   "cell_type": "code",
   "execution_count": null,
   "id": "82941be3",
   "metadata": {},
   "outputs": [],
   "source": [
    "path=f'Data/augm/9'\n",
    "myPicList= os.listdir(path)\n",
    "img_9=[]\n",
    "for y in (myPicList):\n",
    "    img=cv2.imread(path + str('/')+y,0)\n",
    "    img = cv2.resize(img, (50,50))\n",
    "    img_9.append(img)\n",
    "img_9 = np.array(img_9)\n",
    "np.random.shuffle(img_9)"
   ]
  },
  {
   "cell_type": "markdown",
   "id": "1f3b63b1",
   "metadata": {},
   "source": [
    "## 10 = +\n",
    "## 11 = -\n",
    "## 12 = x\n",
    "## 13 = /"
   ]
  },
  {
   "cell_type": "code",
   "execution_count": null,
   "id": "595da07c",
   "metadata": {},
   "outputs": [],
   "source": [
    "path=f'Data/augm/+'\n",
    "myPicList= os.listdir(path)\n",
    "img_10=[]\n",
    "for y in (myPicList):\n",
    "    img=cv2.imread(path + str('/')+y,0)\n",
    "    img = cv2.resize(img, (50,50))\n",
    "    img_10.append(img)\n",
    "img_10 = np.array(img_10)\n",
    "np.random.shuffle(img_10)"
   ]
  },
  {
   "cell_type": "code",
   "execution_count": null,
   "id": "ceb7bc26",
   "metadata": {},
   "outputs": [],
   "source": [
    "path=f'Data/augm/-'\n",
    "myPicList= os.listdir(path)\n",
    "img_11=[]\n",
    "for y in (myPicList):\n",
    "    img=cv2.imread(path + str('/')+y,0)\n",
    "    img = cv2.resize(img, (50,50))\n",
    "    img_11.append(img)\n",
    "img_11 = np.array(img_11)\n",
    "np.random.shuffle(img_11)"
   ]
  },
  {
   "cell_type": "code",
   "execution_count": null,
   "id": "0021eca9",
   "metadata": {},
   "outputs": [],
   "source": [
    "path=f'Data/augm/mul'\n",
    "myPicList= os.listdir(path)\n",
    "img_12=[]\n",
    "for y in (myPicList):\n",
    "    img=cv2.imread(path + str('/')+y,0)\n",
    "    img = cv2.resize(img, (50,50))\n",
    "    img_12.append(img)\n",
    "img_12 = np.array(img_12)\n",
    "np.random.shuffle(img_12)"
   ]
  },
  {
   "cell_type": "code",
   "execution_count": null,
   "id": "e979e9d2",
   "metadata": {},
   "outputs": [],
   "source": [
    "path=f'Data/augm/div'\n",
    "myPicList= os.listdir(path)\n",
    "img_13=[]\n",
    "for y in (myPicList):\n",
    "    img=cv2.imread(path + str('/')+y,0)\n",
    "    img = cv2.resize(img, (50,50))\n",
    "    img_13.append(img)\n",
    "img_13 = np.array(img_13)\n",
    "np.random.shuffle(img_13)"
   ]
  },
  {
   "cell_type": "code",
   "execution_count": null,
   "id": "102ca908",
   "metadata": {},
   "outputs": [],
   "source": [
    "def image(n):\n",
    "    if n==0:\n",
    "        return img_0[:16000]\n",
    "    if n==1:\n",
    "        return img_1[:16000]\n",
    "    if n==2:\n",
    "        return img_2[:16000]\n",
    "    if n==3:\n",
    "        return img_3[:16000]\n",
    "    if n==4:\n",
    "        return img_4[:16000]\n",
    "    if n==5:\n",
    "        return img_5[:16000]\n",
    "    if n==6:\n",
    "        return img_6[:16000]\n",
    "    if n==7:\n",
    "        return img_7[:16000]\n",
    "    if n==8:\n",
    "        return img_8[:16000]\n",
    "    if n==9:\n",
    "        return img_9[:16000]\n",
    "    if n==10:\n",
    "        return img_10[:16000]\n",
    "    if n==11:\n",
    "        return img_11[:16000]\n",
    "    if n==12:\n",
    "        return img_12[:16000]\n",
    "    if n==13:\n",
    "        return img_13[:16000]\n",
    "    \n",
    "def image_test(n):\n",
    "    if n==0:\n",
    "        return img_0[16000:]\n",
    "    if n==1:\n",
    "        return img_1[16000:]\n",
    "    if n==2:\n",
    "        return img_2[16000:]\n",
    "    if n==3:\n",
    "        return img_3[16000:]\n",
    "    if n==4:\n",
    "        return img_4[16000:]\n",
    "    if n==5:\n",
    "        return img_5[16000:]\n",
    "    if n==6:\n",
    "        return img_6[16000:]\n",
    "    if n==7:\n",
    "        return img_7[16000:]\n",
    "    if n==8:\n",
    "        return img_8[16000:]\n",
    "    if n==9:\n",
    "        return img_9[16000:]\n",
    "    if n==10:\n",
    "        return img_10[16000:]\n",
    "    if n==11:\n",
    "        return img_11[16000:]\n",
    "    if n==12:\n",
    "        return img_12[16000:]\n",
    "    if n==13:\n",
    "        return img_13[16000:]"
   ]
  },
  {
   "cell_type": "code",
   "execution_count": null,
   "id": "58be8e4b",
   "metadata": {},
   "outputs": [],
   "source": [
    "img_train = image(0).copy()\n",
    "img_test = image_test(0).copy()"
   ]
  },
  {
   "cell_type": "code",
   "execution_count": null,
   "id": "53cb95a4",
   "metadata": {},
   "outputs": [],
   "source": [
    "for i in range(1,14):\n",
    "    img_train = np.concatenate((img_train,image(i)))\n",
    "    img_test = np.concatenate((img_test,image_test(i)))"
   ]
  },
  {
   "cell_type": "code",
   "execution_count": null,
   "id": "e984ff3e",
   "metadata": {},
   "outputs": [],
   "source": [
    "img_train.shape\n",
    "img_test.shape"
   ]
  },
  {
   "cell_type": "code",
   "execution_count": null,
   "id": "83c4cb10",
   "metadata": {},
   "outputs": [],
   "source": [
    "def image_label(n):\n",
    "    return n*np.ones((1,16000),dtype=\"uint8\")\n",
    "def image_label_t(n):\n",
    "    return n*np.ones((1,3800),dtype=\"uint8\")"
   ]
  },
  {
   "cell_type": "code",
   "execution_count": null,
   "id": "5c0f788d",
   "metadata": {},
   "outputs": [],
   "source": [
    "img_train_label = image_label(0).copy()\n",
    "img_test_label = image_label_t(0).copy()\n",
    "for i in range(1,14):\n",
    "    img_train_label = np.append(img_train_label,image_label(i))\n",
    "    img_test_label = np.append(img_test_label,image_label_t(i))"
   ]
  },
  {
   "cell_type": "code",
   "execution_count": null,
   "id": "9dd918a6",
   "metadata": {},
   "outputs": [],
   "source": [
    "def shuffle_in_unison(a, b):\n",
    "    assert len(a) == len(b)\n",
    "    shuffled_a = np.empty(a.shape, dtype=a.dtype)\n",
    "    shuffled_b = np.empty(b.shape, dtype=b.dtype)\n",
    "    permutation = np.random.permutation(len(a))\n",
    "    for old_index, new_index in enumerate(permutation):\n",
    "        shuffled_a[new_index] = a[old_index]\n",
    "        shuffled_b[new_index] = b[old_index]\n",
    "    return shuffled_a, shuffled_b"
   ]
  },
  {
   "cell_type": "code",
   "execution_count": null,
   "id": "825acd8d",
   "metadata": {},
   "outputs": [],
   "source": [
    "img_train,img_train_label = shuffle_in_unison(img_train,img_train_label)\n",
    "img_test,img_test_label = shuffle_in_unison(img_test,img_test_label)"
   ]
  },
  {
   "cell_type": "code",
   "execution_count": null,
   "id": "98e124df",
   "metadata": {},
   "outputs": [],
   "source": [
    "del img_0\n",
    "del img_1\n",
    "del img_2\n",
    "del img_3\n",
    "del img_4\n",
    "del img_5\n",
    "del img_6\n",
    "del img_7\n",
    "del img_8\n",
    "del img_9\n",
    "del img_10\n",
    "del img_11\n",
    "del img_12\n",
    "del img_13\n",
    "import gc\n",
    "gc.collect()"
   ]
  },
  {
   "cell_type": "code",
   "execution_count": null,
   "id": "072c5b62",
   "metadata": {},
   "outputs": [],
   "source": [
    "import torch\n",
    "import torch.nn as nn\n",
    "import torch.nn.functional as F\n",
    "device = torch.device(\"cuda:0\" if torch.cuda.is_available() else \"cpu\")"
   ]
  },
  {
   "cell_type": "code",
   "execution_count": null,
   "id": "4e702482",
   "metadata": {},
   "outputs": [],
   "source": [
    "class Net(nn.Module):\n",
    "    def __init__(self):\n",
    "        super().__init__()\n",
    "        self.conv1 = nn.Conv2d(1, 32, 5) \n",
    "        self.conv2 = nn.Conv2d(32, 64, 5) \n",
    "        self.conv3 = nn.Conv2d(64, 128, 5)\n",
    "\n",
    "        x = torch.randn(50,50).view(-1,1,50,50)\n",
    "        self._to_linear = None\n",
    "        self.convs(x)\n",
    "\n",
    "        self.fc1 = nn.Linear(self._to_linear, 512) \n",
    "        self.fc2 = nn.Linear(512, 14) \n",
    "\n",
    "    def convs(self, x):\n",
    "        # max pooling over 2x2\n",
    "        x = F.max_pool2d(F.relu(self.conv1(x)), (2, 2))\n",
    "        x = F.max_pool2d(F.relu(self.conv2(x)), (2, 2))\n",
    "        x = F.max_pool2d(F.relu(self.conv3(x)), (2, 2))\n",
    "\n",
    "        if self._to_linear is None:\n",
    "            self._to_linear = x[0].shape[0]*x[0].shape[1]*x[0].shape[2]\n",
    "        return x\n",
    "\n",
    "    def forward(self, x):\n",
    "        x = self.convs(x)\n",
    "        x = x.view(-1, self._to_linear) \n",
    "        x = F.relu(self.fc1(x))\n",
    "        x = self.fc2(x)\n",
    "        return F.softmax(x, dim=1)\n",
    "\n",
    "\n",
    "net = Net()\n",
    "print(net)"
   ]
  },
  {
   "cell_type": "code",
   "execution_count": null,
   "id": "c73c8ab7",
   "metadata": {},
   "outputs": [],
   "source": [
    "img_train_label = np.array([np.eye(14)[img_train_label[i]] for i in range(len(img_train_label))])\n",
    "img_test_label = np.array([np.eye(14)[img_test_label[i]] for i in range(len(img_test_label))])"
   ]
  },
  {
   "cell_type": "code",
   "execution_count": null,
   "id": "6f20341b",
   "metadata": {},
   "outputs": [],
   "source": [
    "img_train_tensor,img_train_label = torch.from_numpy(img_train)/255,torch.from_numpy(img_train_label)\n",
    "img_test_tensor,img_test_label = torch.from_numpy(img_test)/255,torch.from_numpy(img_test_label)\n",
    "# img_train_tensor = img_train_tensor.to(device)\n",
    "# img_train_label = img_train_label.to(device)\n",
    "# img_test_tensor = img_test_tensor.to(device)\n",
    "# img_test_label = img_test_label.to(device)"
   ]
  },
  {
   "cell_type": "code",
   "execution_count": null,
   "id": "eaffa0f1",
   "metadata": {},
   "outputs": [],
   "source": [
    "net.to(device)\n",
    "BATCH_SIZE = 112\n",
    "EPOCHS = 2\n",
    "import torch.optim as optim\n",
    "from tqdm import tqdm\n",
    "optimizer = optim.Adam(net.parameters(), lr=0.001)\n",
    "loss_function = nn.MSELoss()\n",
    "for epoch in range(EPOCHS):\n",
    "    for i in tqdm(range(0, len(img_train_tensor), BATCH_SIZE)): \n",
    "        batch_X=img_train_tensor[i:i+BATCH_SIZE].view(-1, 1, 50, 50)\n",
    "        batch_Y=img_train_label[i:i+BATCH_SIZE]\n",
    "        batch_X,batch_Y = batch_X.to(device),batch_Y.to(device)\n",
    "        net.zero_grad()\n",
    "\n",
    "        outputs = net(batch_X)\n",
    "        loss = loss_function(outputs, batch_Y.float())\n",
    "        loss.backward()\n",
    "        optimizer.step()    # Does the update\n",
    "\n",
    "    print(f\"Epoch: {epoch}. Loss: {loss}\")"
   ]
  },
  {
   "cell_type": "code",
   "execution_count": null,
   "id": "32860f7a",
   "metadata": {},
   "outputs": [],
   "source": [
    "from tqdm import tqdm\n",
    "correct = 0\n",
    "total = 0\n",
    "predicted = []\n",
    "with torch.no_grad():\n",
    "    for i in tqdm(range(len(img_test_tensor))):\n",
    "        real_class = img_test_label[i].to(device)\n",
    "        real_class = torch.argmax(real_class)\n",
    "        net_out = net(img_test_tensor[i].to(device).view(-1, 1, 50, 50))[0]  # returns a list, \n",
    "        predicted_class = torch.argmax(net_out)\n",
    "        predicted.append(predicted_class)\n",
    "        if predicted_class == real_class:\n",
    "            correct += 1\n",
    "        total += 1\n",
    "print(\"Accuracy: \", round(correct/total, 3))"
   ]
  },
  {
   "cell_type": "code",
   "execution_count": null,
   "id": "7e1c2bba",
   "metadata": {},
   "outputs": [],
   "source": [
    "import cv2\n",
    "import numpy as np\n",
    "import os\n",
    "import matplotlib.pyplot as plt\n",
    "from scipy import ndimage"
   ]
  },
  {
   "cell_type": "code",
   "execution_count": null,
   "id": "6cab3c39",
   "metadata": {},
   "outputs": [],
   "source": [
    "# path=f'SoML-50/data'\n",
    "# myPicList= os.listdir(path)\n",
    "# images=[]\n",
    "# for y in (myPicList):\n",
    "#     try:\n",
    "#         img=cv2.imread(path + str('/')+y,0)\n",
    "#         images.append(img)\n",
    "#     except:\n",
    "#         pass\n",
    "# images = np.array(images)\n",
    "# final=[]\n",
    "# #array_images.shape[0]\n",
    "# for z in range (images.shape[0]):\n",
    "#     new=[]\n",
    "#     new.append(images[z][0:images.shape[1] , 0: int(images.shape[2]/3)])\n",
    "#     new.append(images[z][0:images.shape[1] , int(images.shape[2]/3) : int(2*int(images.shape[2]/3))])\n",
    "#     new.append(images[z][0:images.shape[1] , int(2*int(images.shape[2]/3)): images.shape[2]])\n",
    "#     final.append(new)\n",
    "# final=np.array(final)\n",
    "# plt.imshow(final[1][1])\n"
   ]
  },
  {
   "cell_type": "code",
   "execution_count": null,
   "id": "e70b169c",
   "metadata": {},
   "outputs": [],
   "source": [
    "# for i in range(len(final)):\n",
    "#     for j in range(3):\n",
    "#         cv2.imwrite(f'SoML-50/final/final_{i}{j}.jpg',final[i][j])"
   ]
  },
  {
   "cell_type": "code",
   "execution_count": null,
   "id": "fd166624",
   "metadata": {},
   "outputs": [],
   "source": [
    "prob = []\n",
    "for i in range(50000):\n",
    "    for j in range(3):\n",
    "        im = cv2.imread(f'SoML-50/final/final_{i}{j}.jpg',0)\n",
    "        im = cv2.resize(im,(50,50))\n",
    "        prob.append(im)\n",
    "prob = torch.Tensor(prob)\n",
    "prob = (prob/255).view(-1,1,50,50)"
   ]
  },
  {
   "cell_type": "code",
   "execution_count": null,
   "id": "f97216f8",
   "metadata": {},
   "outputs": [],
   "source": [
    "from tqdm import tqdm\n",
    "correct = 0\n",
    "total = 0\n",
    "predicted = []\n",
    "with torch.no_grad():\n",
    "    for i in tqdm(range(len(prob))):\n",
    "        net_out = net(prob[i].to(device).view(-1, 1, 50, 50))[0]  # returns a list, \n",
    "        predicted_class = torch.argmax(net_out)\n",
    "        predicted.append(predicted_class)"
   ]
  },
  {
   "cell_type": "code",
   "execution_count": null,
   "id": "a0702b83",
   "metadata": {},
   "outputs": [],
   "source": [
    "def arth(l):\n",
    "    try:\n",
    "        if l[0].item()>9:\n",
    "            if l[0].item()== 10:\n",
    "                return (\"prefix\",l[1].item()+l[2].item())\n",
    "            if l[0].item()== 11:\n",
    "                return (\"prefix\",l[1].item()-l[2].item())\n",
    "            if l[0].item()== 12:\n",
    "                return (\"prefix\",l[1].item()*l[2].item())\n",
    "            if l[0].item()== 13:\n",
    "                return (\"prefix\",l[1].item()/l[2].item())\n",
    "        elif l[1].item()>9:\n",
    "            if l[1].item()== 10:\n",
    "                return (\"infix\",l[0].item()+l[2].item())\n",
    "            if l[1].item()== 11:\n",
    "                return (\"infix\",l[0].item()-l[2].item())\n",
    "            if l[1].item()== 12:\n",
    "                return (\"infix\",l[0].item()*l[2].item())\n",
    "            if l[1].item()== 13:\n",
    "                return (\"infix\",l[0].item()/l[2].item())\n",
    "        elif l[2].item()>9:\n",
    "            if l[2].item()== 10:\n",
    "                return (\"postfix\",l[0].item()+l[1].item())\n",
    "            if l[2].item()== 11:\n",
    "                return (\"postfix\",l[0].item()-l[1].item())\n",
    "            if l[2].item()== 12:\n",
    "                return (\"postfix\",l[0].item()*l[1].item())\n",
    "            if l[2].item()== 13:\n",
    "                return (\"postfix\",l[0].item()/l[1].item())\n",
    "        else:\n",
    "            return (\"dk\",-100)\n",
    "    except:\n",
    "        if l[0].item()>9:\n",
    "                return (\"prefix\",-100)\n",
    "        elif l[1].item()>9:\n",
    "            return (\"infix\",-100)\n",
    "        elif l[2].item()>9:\n",
    "            return (\"postfix\",-100)\n",
    "        else:\n",
    "            return (\"dk\",-100)"
   ]
  },
  {
   "cell_type": "code",
   "execution_count": null,
   "id": "688c575e",
   "metadata": {},
   "outputs": [],
   "source": [
    "outputs = []\n",
    "outlab = []\n",
    "for i in range(0,len(predicted),3):\n",
    "    ans_label,answer = arth(predicted[i:i+3])\n",
    "    outputs.append(answer)\n",
    "    outlab.append(ans_label)"
   ]
  },
  {
   "cell_type": "code",
   "execution_count": null,
   "id": "be01e6bc",
   "metadata": {},
   "outputs": [],
   "source": [
    "def num_pic(str):\n",
    "    num = \"\"\n",
    "    for i in range(0,len(str)):\n",
    "        if str[i] == \".\":\n",
    "            return int(num)\n",
    "            break\n",
    "        else:\n",
    "            num += str[i]"
   ]
  },
  {
   "cell_type": "code",
   "execution_count": null,
   "id": "b12f3f7d",
   "metadata": {},
   "outputs": [],
   "source": [
    "import pandas as pd\n",
    "data = pd.read_csv(\"SoML-50/annotations.csv\")"
   ]
  },
  {
   "cell_type": "code",
   "execution_count": null,
   "id": "7ebd5593",
   "metadata": {},
   "outputs": [],
   "source": [
    " ans = data['Value']"
   ]
  },
  {
   "cell_type": "code",
   "execution_count": null,
   "id": "ce147a9c",
   "metadata": {},
   "outputs": [],
   "source": [
    "path=f'SoML-50/data'\n",
    "myPicList= os.listdir(path)\n",
    "correct = 0\n",
    "total = 0\n",
    "for i in range(len(outputs)):\n",
    "    # output i corr to myPicList i\n",
    "    predicted_class = outputs[i]\n",
    "    pic = num_pic(myPicList[i])\n",
    "    real_class = ans[pic-1]\n",
    "    if predicted_class == real_class:\n",
    "        correct += 1\n",
    "    total += 1"
   ]
  },
  {
   "cell_type": "code",
   "execution_count": null,
   "id": "1945baa2",
   "metadata": {},
   "outputs": [],
   "source": [
    "correct/total"
   ]
  },
  {
   "cell_type": "code",
   "execution_count": null,
   "id": "fc2f611e",
   "metadata": {},
   "outputs": [],
   "source": [
    "len(outputs)"
   ]
  },
  {
   "cell_type": "code",
   "execution_count": null,
   "id": "1723462f",
   "metadata": {},
   "outputs": [],
   "source": [
    " ans_l = data['Label']"
   ]
  },
  {
   "cell_type": "code",
   "execution_count": null,
   "id": "86a05a8c",
   "metadata": {},
   "outputs": [],
   "source": [
    "path=f'SoML-50/data'\n",
    "myPicList= os.listdir(path)\n",
    "correct_l = 0\n",
    "total_l = 0\n",
    "for i in range(len(outlab)):\n",
    "    # output i corr to myPicList i\n",
    "    predicted_class = outlab[i]\n",
    "    pic = num_pic(myPicList[i])\n",
    "    real_class = ans_l[pic-1]\n",
    "    if predicted_class == real_class:\n",
    "        correct_l += 1\n",
    "    total_l += 1"
   ]
  },
  {
   "cell_type": "code",
   "execution_count": null,
   "id": "7b905ad7",
   "metadata": {},
   "outputs": [],
   "source": [
    "correct_l/total_l"
   ]
  }
 ],
 "metadata": {
  "kernelspec": {
   "display_name": "Python 3",
   "language": "python",
   "name": "python3"
  },
  "language_info": {
   "codemirror_mode": {
    "name": "ipython",
    "version": 3
   },
   "file_extension": ".py",
   "mimetype": "text/x-python",
   "name": "python",
   "nbconvert_exporter": "python",
   "pygments_lexer": "ipython3",
   "version": "3.9.4"
  }
 },
 "nbformat": 4,
 "nbformat_minor": 5
}
